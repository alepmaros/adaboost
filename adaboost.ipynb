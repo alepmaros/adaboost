{
 "cells": [
  {
   "cell_type": "markdown",
   "metadata": {},
   "source": [
    "TODO\n",
    "\n",
    "1. Conferir perguntas Decision Stump\n",
    "2. Adicionar Pesos dos pontos"
   ]
  },
  {
   "cell_type": "code",
   "execution_count": null,
   "metadata": {},
   "outputs": [],
   "source": [
    "import os, time\n",
    "\n",
    "import numpy as np\n",
    "import matplotlib as plt\n",
    "import pandas as pd\n",
    "\n",
    "pd.options.display.max_rows = 10"
   ]
  },
  {
   "cell_type": "code",
   "execution_count": null,
   "metadata": {},
   "outputs": [],
   "source": [
    "data = pd.read_csv('data/tic-tac-toe.data', header=None)\n",
    "data"
   ]
  },
  {
   "cell_type": "code",
   "execution_count": null,
   "metadata": {},
   "outputs": [],
   "source": [
    "# Armazenar o label correto dos numeros\n",
    "data = data.rename(columns = {9:'label'})\n",
    "data['label'] = data['label'].replace({'positive': 1, 'negative': -1})\n",
    "\n",
    "# Separar 20% para teste\n",
    "train = data.sample(frac = 0.8)\n",
    "test = data.drop(train.index)\n",
    "\n",
    "y_train = train.label\n",
    "y_test  = test.label\n",
    "\n",
    "# Retirar a primeira coluna referente aos labels\n",
    "X_train = train.drop(\"label\", axis=1)\n",
    "X_test  = test.drop(\"label\", axis=1)"
   ]
  },
  {
   "cell_type": "code",
   "execution_count": null,
   "metadata": {},
   "outputs": [],
   "source": [
    "class DecisionStump:\n",
    "    def __init__(self):\n",
    "        # Possiveis categorias que o dado vai ter para poder realizar as perguntas (Tem x na posição 0?)\n",
    "        # No caso do tick-tack-toe vai ser x, o e b\n",
    "        self.unique_categories = []\n",
    "        # Dimensionalidade do dado, para saber quantas possíveis posições pode ter\n",
    "        self.data_dimension = 0\n",
    "        \n",
    "        self.question_id  = None\n",
    "        self.question_cat = None\n",
    "        \n",
    "    def fit(self, X, y, weights=None):\n",
    "        \"\"\"Seleciona o modelo com base em X, y e os pesos de cada entrada\"\"\"\n",
    "        \n",
    "        # Guarda todos os valores possiveis para todas as colunas e a dimensao dos dados\n",
    "        # No caso do Tick-Tack-Toe, sera x,o,b para todas\n",
    "        for column in X:\n",
    "            self.unique_categories.append(X[column].unique())\n",
    "        self.data_dimension = len(list(X))\n",
    "        \n",
    "        best_model_error  = 2\n",
    "        for i in range(0, self.data_dimension):\n",
    "            for cat in self.unique_categories[0]:\n",
    "                error = self._compute_training_error(X, y, i, cat)\n",
    "                if (error < best_model_error):\n",
    "                    best_model_error  = error\n",
    "                    self.question_id  = i\n",
    "                    self.question_cat = cat\n",
    "                    print('Best model {} and {} with error {}'.format(self.question_id, self.question_cat, error))\n",
    "        \n",
    "        print('Best model {} and {}'.format(self.question_id, self.question_cat))\n",
    "        \n",
    "        return\n",
    "    \n",
    "    def predict(X):\n",
    "        \"\"\"Prevê os valores das entradas em X\"\"\"\n",
    "        if (self.question_id == None and self.question_cat == None):\n",
    "            print('Model was not fitted')\n",
    "            return\n",
    "        \n",
    "        return\n",
    "    \n",
    "    def _compute_training_error(self, X, y, question_id, question_cat, weights=None):\n",
    "        nb_samples  = X.count()[0]\n",
    "        right_count = 0\n",
    "        for i, row in X.iterrows():\n",
    "            if ( (row[question_id] == question_cat and y[i] == 1) or\n",
    "                    (row[question_id] != question_cat and [i] != -1)):\n",
    "                right_count += 1\n",
    "        \n",
    "        return right_count / nb_samples \n",
    "        \n",
    "    \n",
    "dt = DecisionStump()\n",
    "dt.fit(X_train, y_train)"
   ]
  }
 ],
 "metadata": {
  "kernelspec": {
   "display_name": "Python 3",
   "language": "python",
   "name": "python3"
  },
  "language_info": {
   "codemirror_mode": {
    "name": "ipython",
    "version": 3
   },
   "file_extension": ".py",
   "mimetype": "text/x-python",
   "name": "python",
   "nbconvert_exporter": "python",
   "pygments_lexer": "ipython3",
   "version": "3.4.3"
  }
 },
 "nbformat": 4,
 "nbformat_minor": 2
}
